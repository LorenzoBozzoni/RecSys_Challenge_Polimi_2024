{
 "cells": [
  {
   "cell_type": "code",
   "execution_count": 1,
   "id": "e2099eb8",
   "metadata": {
    "_cell_guid": "b1076dfc-b9ad-4769-8c92-a6c4dae69d19",
    "_uuid": "8f2839f25d086af736a60e9eeb907d3b93b6e0e5",
    "execution": {
     "iopub.execute_input": "2024-11-08T09:18:19.831794Z",
     "iopub.status.busy": "2024-11-08T09:18:19.830785Z",
     "iopub.status.idle": "2024-11-08T09:18:22.993192Z",
     "shell.execute_reply": "2024-11-08T09:18:22.991855Z"
    },
    "papermill": {
     "duration": 3.175709,
     "end_time": "2024-11-08T09:18:22.995955",
     "exception": false,
     "start_time": "2024-11-08T09:18:19.820246",
     "status": "completed"
    },
    "tags": []
   },
   "outputs": [
    {
     "name": "stdout",
     "output_type": "stream",
     "text": [
      "/kaggle/input/recommender-system-2024-challenge-polimi/data_train.csv\n",
      "/kaggle/input/recommender-system-2024-challenge-polimi/data_target_users_test.csv\n",
      "/kaggle/input/recommender-system-2024-challenge-polimi/data_ICM_metadata.csv\n"
     ]
    }
   ],
   "source": [
    "# This Python 3 environment comes with many helpful analytics libraries installed\n",
    "# It is defined by the kaggle/python Docker image: https://github.com/kaggle/docker-python\n",
    "# For example, here's several helpful packages to load\n",
    "\n",
    "import numpy as np # linear algebra\n",
    "import pandas as pd # data processing, CSV file I/O (e.g. pd.read_csv)\n",
    "import matplotlib.pyplot as plt\n",
    "import seaborn as sns\n",
    "\n",
    "# Input data files are available in the read-only \"../input/\" directory\n",
    "# For example, running this (by clicking run or pressing Shift+Enter) will list all files under the input directory\n",
    "\n",
    "import os\n",
    "for dirname, _, filenames in os.walk('/kaggle/input'):\n",
    "    for filename in filenames:\n",
    "        print(os.path.join(dirname, filename))\n",
    "\n",
    "# You can write up to 20GB to the current directory (/kaggle/working/) that gets preserved as output when you create a version using \"Save & Run All\" \n",
    "# You can also write temporary files to /kaggle/temp/, but they won't be saved outside of the current session"
   ]
  },
  {
   "cell_type": "markdown",
   "id": "ba871db1",
   "metadata": {
    "papermill": {
     "duration": 0.007922,
     "end_time": "2024-11-08T09:18:23.012457",
     "exception": false,
     "start_time": "2024-11-08T09:18:23.004535",
     "status": "completed"
    },
    "tags": []
   },
   "source": [
    "# Let's explore the datasets\n",
    "### Starting from the URM\n",
    "The URM contains a user for each row and an item for each column"
   ]
  },
  {
   "cell_type": "code",
   "execution_count": 2,
   "id": "ffb7dd2b",
   "metadata": {
    "execution": {
     "iopub.execute_input": "2024-11-08T09:18:23.031250Z",
     "iopub.status.busy": "2024-11-08T09:18:23.030060Z",
     "iopub.status.idle": "2024-11-08T09:18:23.939817Z",
     "shell.execute_reply": "2024-11-08T09:18:23.938637Z"
    },
    "papermill": {
     "duration": 0.921866,
     "end_time": "2024-11-08T09:18:23.942376",
     "exception": false,
     "start_time": "2024-11-08T09:18:23.020510",
     "status": "completed"
    },
    "tags": []
   },
   "outputs": [
    {
     "data": {
      "text/html": [
       "<div>\n",
       "<style scoped>\n",
       "    .dataframe tbody tr th:only-of-type {\n",
       "        vertical-align: middle;\n",
       "    }\n",
       "\n",
       "    .dataframe tbody tr th {\n",
       "        vertical-align: top;\n",
       "    }\n",
       "\n",
       "    .dataframe thead th {\n",
       "        text-align: right;\n",
       "    }\n",
       "</style>\n",
       "<table border=\"1\" class=\"dataframe\">\n",
       "  <thead>\n",
       "    <tr style=\"text-align: right;\">\n",
       "      <th></th>\n",
       "      <th>user_id</th>\n",
       "      <th>item_id</th>\n",
       "      <th>data</th>\n",
       "    </tr>\n",
       "  </thead>\n",
       "  <tbody>\n",
       "    <tr>\n",
       "      <th>0</th>\n",
       "      <td>0</td>\n",
       "      <td>0</td>\n",
       "      <td>1.0</td>\n",
       "    </tr>\n",
       "    <tr>\n",
       "      <th>1</th>\n",
       "      <td>0</td>\n",
       "      <td>2</td>\n",
       "      <td>1.0</td>\n",
       "    </tr>\n",
       "    <tr>\n",
       "      <th>2</th>\n",
       "      <td>0</td>\n",
       "      <td>120</td>\n",
       "      <td>1.0</td>\n",
       "    </tr>\n",
       "    <tr>\n",
       "      <th>3</th>\n",
       "      <td>0</td>\n",
       "      <td>128</td>\n",
       "      <td>1.0</td>\n",
       "    </tr>\n",
       "    <tr>\n",
       "      <th>4</th>\n",
       "      <td>0</td>\n",
       "      <td>211</td>\n",
       "      <td>1.0</td>\n",
       "    </tr>\n",
       "    <tr>\n",
       "      <th>5</th>\n",
       "      <td>0</td>\n",
       "      <td>232</td>\n",
       "      <td>1.0</td>\n",
       "    </tr>\n",
       "    <tr>\n",
       "      <th>6</th>\n",
       "      <td>0</td>\n",
       "      <td>282</td>\n",
       "      <td>1.0</td>\n",
       "    </tr>\n",
       "    <tr>\n",
       "      <th>7</th>\n",
       "      <td>0</td>\n",
       "      <td>453</td>\n",
       "      <td>1.0</td>\n",
       "    </tr>\n",
       "    <tr>\n",
       "      <th>8</th>\n",
       "      <td>0</td>\n",
       "      <td>458</td>\n",
       "      <td>1.0</td>\n",
       "    </tr>\n",
       "    <tr>\n",
       "      <th>9</th>\n",
       "      <td>0</td>\n",
       "      <td>491</td>\n",
       "      <td>1.0</td>\n",
       "    </tr>\n",
       "  </tbody>\n",
       "</table>\n",
       "</div>"
      ],
      "text/plain": [
       "   user_id  item_id  data\n",
       "0        0        0   1.0\n",
       "1        0        2   1.0\n",
       "2        0      120   1.0\n",
       "3        0      128   1.0\n",
       "4        0      211   1.0\n",
       "5        0      232   1.0\n",
       "6        0      282   1.0\n",
       "7        0      453   1.0\n",
       "8        0      458   1.0\n",
       "9        0      491   1.0"
      ]
     },
     "execution_count": 2,
     "metadata": {},
     "output_type": "execute_result"
    }
   ],
   "source": [
    "URM_all_dataframe = pd.read_csv(\"/kaggle/input/recommender-system-2024-challenge-polimi/data_train.csv\")\n",
    "URM_all_dataframe.head(10)"
   ]
  },
  {
   "cell_type": "code",
   "execution_count": 3,
   "id": "dce1541a",
   "metadata": {
    "execution": {
     "iopub.execute_input": "2024-11-08T09:18:23.963018Z",
     "iopub.status.busy": "2024-11-08T09:18:23.962631Z",
     "iopub.status.idle": "2024-11-08T09:18:23.968536Z",
     "shell.execute_reply": "2024-11-08T09:18:23.967311Z"
    },
    "papermill": {
     "duration": 0.020335,
     "end_time": "2024-11-08T09:18:23.971664",
     "exception": false,
     "start_time": "2024-11-08T09:18:23.951329",
     "status": "completed"
    },
    "tags": []
   },
   "outputs": [
    {
     "name": "stdout",
     "output_type": "stream",
     "text": [
      "The number of interactions is 1764607\n"
     ]
    }
   ],
   "source": [
    "print (\"The number of interactions is {}\".format(len(URM_all_dataframe)))"
   ]
  },
  {
   "cell_type": "code",
   "execution_count": 4,
   "id": "26ff2de4",
   "metadata": {
    "execution": {
     "iopub.execute_input": "2024-11-08T09:18:23.990501Z",
     "iopub.status.busy": "2024-11-08T09:18:23.990061Z",
     "iopub.status.idle": "2024-11-08T09:18:24.048340Z",
     "shell.execute_reply": "2024-11-08T09:18:24.046948Z"
    },
    "papermill": {
     "duration": 0.070571,
     "end_time": "2024-11-08T09:18:24.050735",
     "exception": false,
     "start_time": "2024-11-08T09:18:23.980164",
     "status": "completed"
    },
    "tags": []
   },
   "outputs": [
    {
     "name": "stdout",
     "output_type": "stream",
     "text": [
      "Number of items\t 38121, Number of users\t 35736\n",
      "Max ID items\t 38120, Max Id users\t 35735\n",
      "\n"
     ]
    }
   ],
   "source": [
    "userID_unique = URM_all_dataframe[\"user_id\"].unique()\n",
    "itemID_unique = URM_all_dataframe[\"item_id\"].unique()\n",
    "n_users = len(userID_unique)\n",
    "n_items = len(itemID_unique)\n",
    "n_interactions = len(URM_all_dataframe)\n",
    "\n",
    "print (\"Number of items\\t {}, Number of users\\t {}\".format(n_items, n_users))\n",
    "print (\"Max ID items\\t {}, Max Id users\\t {}\\n\".format(max(itemID_unique), max(userID_unique)))"
   ]
  },
  {
   "cell_type": "code",
   "execution_count": 5,
   "id": "b1f91ce6",
   "metadata": {
    "execution": {
     "iopub.execute_input": "2024-11-08T09:18:24.070492Z",
     "iopub.status.busy": "2024-11-08T09:18:24.069619Z",
     "iopub.status.idle": "2024-11-08T09:18:24.112368Z",
     "shell.execute_reply": "2024-11-08T09:18:24.111167Z"
    },
    "papermill": {
     "duration": 0.055715,
     "end_time": "2024-11-08T09:18:24.115007",
     "exception": false,
     "start_time": "2024-11-08T09:18:24.059292",
     "status": "completed"
    },
    "tags": []
   },
   "outputs": [],
   "source": [
    "mapped_id, original_id = pd.factorize(URM_all_dataframe[\"user_id\"].unique())\n",
    "user_original_ID_to_index = pd.Series(mapped_id, index=original_id)\n",
    "\n",
    "mapped_id, original_id = pd.factorize(URM_all_dataframe[\"item_id\"].unique())\n",
    "item_original_ID_to_index = pd.Series(mapped_id, index=original_id)"
   ]
  },
  {
   "cell_type": "code",
   "execution_count": 6,
   "id": "c94d9963",
   "metadata": {
    "execution": {
     "iopub.execute_input": "2024-11-08T09:18:24.134170Z",
     "iopub.status.busy": "2024-11-08T09:18:24.133722Z",
     "iopub.status.idle": "2024-11-08T09:18:24.147619Z",
     "shell.execute_reply": "2024-11-08T09:18:24.146386Z"
    },
    "papermill": {
     "duration": 0.02599,
     "end_time": "2024-11-08T09:18:24.149891",
     "exception": false,
     "start_time": "2024-11-08T09:18:24.123901",
     "status": "completed"
    },
    "tags": []
   },
   "outputs": [
    {
     "name": "stdout",
     "output_type": "stream",
     "text": [
      "New index for item 292 is 17024\n"
     ]
    },
    {
     "data": {
      "text/html": [
       "<div>\n",
       "<style scoped>\n",
       "    .dataframe tbody tr th:only-of-type {\n",
       "        vertical-align: middle;\n",
       "    }\n",
       "\n",
       "    .dataframe tbody tr th {\n",
       "        vertical-align: top;\n",
       "    }\n",
       "\n",
       "    .dataframe thead th {\n",
       "        text-align: right;\n",
       "    }\n",
       "</style>\n",
       "<table border=\"1\" class=\"dataframe\">\n",
       "  <thead>\n",
       "    <tr style=\"text-align: right;\">\n",
       "      <th></th>\n",
       "      <th>user_id</th>\n",
       "      <th>item_id</th>\n",
       "      <th>data</th>\n",
       "    </tr>\n",
       "  </thead>\n",
       "  <tbody>\n",
       "    <tr>\n",
       "      <th>0</th>\n",
       "      <td>0</td>\n",
       "      <td>0</td>\n",
       "      <td>1.0</td>\n",
       "    </tr>\n",
       "    <tr>\n",
       "      <th>1</th>\n",
       "      <td>0</td>\n",
       "      <td>2</td>\n",
       "      <td>1.0</td>\n",
       "    </tr>\n",
       "    <tr>\n",
       "      <th>2</th>\n",
       "      <td>0</td>\n",
       "      <td>120</td>\n",
       "      <td>1.0</td>\n",
       "    </tr>\n",
       "    <tr>\n",
       "      <th>3</th>\n",
       "      <td>0</td>\n",
       "      <td>128</td>\n",
       "      <td>1.0</td>\n",
       "    </tr>\n",
       "    <tr>\n",
       "      <th>4</th>\n",
       "      <td>0</td>\n",
       "      <td>211</td>\n",
       "      <td>1.0</td>\n",
       "    </tr>\n",
       "    <tr>\n",
       "      <th>5</th>\n",
       "      <td>0</td>\n",
       "      <td>232</td>\n",
       "      <td>1.0</td>\n",
       "    </tr>\n",
       "    <tr>\n",
       "      <th>6</th>\n",
       "      <td>0</td>\n",
       "      <td>282</td>\n",
       "      <td>1.0</td>\n",
       "    </tr>\n",
       "    <tr>\n",
       "      <th>7</th>\n",
       "      <td>0</td>\n",
       "      <td>453</td>\n",
       "      <td>1.0</td>\n",
       "    </tr>\n",
       "    <tr>\n",
       "      <th>8</th>\n",
       "      <td>0</td>\n",
       "      <td>458</td>\n",
       "      <td>1.0</td>\n",
       "    </tr>\n",
       "    <tr>\n",
       "      <th>9</th>\n",
       "      <td>0</td>\n",
       "      <td>491</td>\n",
       "      <td>1.0</td>\n",
       "    </tr>\n",
       "  </tbody>\n",
       "</table>\n",
       "</div>"
      ],
      "text/plain": [
       "   user_id  item_id  data\n",
       "0        0        0   1.0\n",
       "1        0        2   1.0\n",
       "2        0      120   1.0\n",
       "3        0      128   1.0\n",
       "4        0      211   1.0\n",
       "5        0      232   1.0\n",
       "6        0      282   1.0\n",
       "7        0      453   1.0\n",
       "8        0      458   1.0\n",
       "9        0      491   1.0"
      ]
     },
     "execution_count": 6,
     "metadata": {},
     "output_type": "execute_result"
    }
   ],
   "source": [
    "original_item_ID = 292\n",
    "print(\"New index for item {} is {}\".format(original_item_ID, item_original_ID_to_index[original_item_ID]))\n",
    "URM_all_dataframe.head(n=10)"
   ]
  },
  {
   "cell_type": "code",
   "execution_count": 7,
   "id": "6200dc10",
   "metadata": {
    "execution": {
     "iopub.execute_input": "2024-11-08T09:18:24.169036Z",
     "iopub.status.busy": "2024-11-08T09:18:24.168639Z",
     "iopub.status.idle": "2024-11-08T09:18:24.234461Z",
     "shell.execute_reply": "2024-11-08T09:18:24.233074Z"
    },
    "papermill": {
     "duration": 0.078562,
     "end_time": "2024-11-08T09:18:24.237149",
     "exception": false,
     "start_time": "2024-11-08T09:18:24.158587",
     "status": "completed"
    },
    "tags": []
   },
   "outputs": [],
   "source": [
    "URM_all_dataframe[\"user_id\"] = URM_all_dataframe[\"user_id\"].map(user_original_ID_to_index)\n",
    "URM_all_dataframe[\"item_id\"] = URM_all_dataframe[\"item_id\"].map(item_original_ID_to_index)"
   ]
  },
  {
   "cell_type": "code",
   "execution_count": 8,
   "id": "f7e2254c",
   "metadata": {
    "execution": {
     "iopub.execute_input": "2024-11-08T09:18:24.256408Z",
     "iopub.status.busy": "2024-11-08T09:18:24.255976Z",
     "iopub.status.idle": "2024-11-08T09:18:24.268101Z",
     "shell.execute_reply": "2024-11-08T09:18:24.266957Z"
    },
    "papermill": {
     "duration": 0.024692,
     "end_time": "2024-11-08T09:18:24.270552",
     "exception": false,
     "start_time": "2024-11-08T09:18:24.245860",
     "status": "completed"
    },
    "tags": []
   },
   "outputs": [
    {
     "data": {
      "text/html": [
       "<div>\n",
       "<style scoped>\n",
       "    .dataframe tbody tr th:only-of-type {\n",
       "        vertical-align: middle;\n",
       "    }\n",
       "\n",
       "    .dataframe tbody tr th {\n",
       "        vertical-align: top;\n",
       "    }\n",
       "\n",
       "    .dataframe thead th {\n",
       "        text-align: right;\n",
       "    }\n",
       "</style>\n",
       "<table border=\"1\" class=\"dataframe\">\n",
       "  <thead>\n",
       "    <tr style=\"text-align: right;\">\n",
       "      <th></th>\n",
       "      <th>user_id</th>\n",
       "      <th>item_id</th>\n",
       "      <th>data</th>\n",
       "    </tr>\n",
       "  </thead>\n",
       "  <tbody>\n",
       "    <tr>\n",
       "      <th>0</th>\n",
       "      <td>0</td>\n",
       "      <td>0</td>\n",
       "      <td>1.0</td>\n",
       "    </tr>\n",
       "    <tr>\n",
       "      <th>1</th>\n",
       "      <td>0</td>\n",
       "      <td>1</td>\n",
       "      <td>1.0</td>\n",
       "    </tr>\n",
       "    <tr>\n",
       "      <th>2</th>\n",
       "      <td>0</td>\n",
       "      <td>2</td>\n",
       "      <td>1.0</td>\n",
       "    </tr>\n",
       "    <tr>\n",
       "      <th>3</th>\n",
       "      <td>0</td>\n",
       "      <td>3</td>\n",
       "      <td>1.0</td>\n",
       "    </tr>\n",
       "    <tr>\n",
       "      <th>4</th>\n",
       "      <td>0</td>\n",
       "      <td>4</td>\n",
       "      <td>1.0</td>\n",
       "    </tr>\n",
       "    <tr>\n",
       "      <th>5</th>\n",
       "      <td>0</td>\n",
       "      <td>5</td>\n",
       "      <td>1.0</td>\n",
       "    </tr>\n",
       "    <tr>\n",
       "      <th>6</th>\n",
       "      <td>0</td>\n",
       "      <td>6</td>\n",
       "      <td>1.0</td>\n",
       "    </tr>\n",
       "    <tr>\n",
       "      <th>7</th>\n",
       "      <td>0</td>\n",
       "      <td>7</td>\n",
       "      <td>1.0</td>\n",
       "    </tr>\n",
       "    <tr>\n",
       "      <th>8</th>\n",
       "      <td>0</td>\n",
       "      <td>8</td>\n",
       "      <td>1.0</td>\n",
       "    </tr>\n",
       "    <tr>\n",
       "      <th>9</th>\n",
       "      <td>0</td>\n",
       "      <td>9</td>\n",
       "      <td>1.0</td>\n",
       "    </tr>\n",
       "  </tbody>\n",
       "</table>\n",
       "</div>"
      ],
      "text/plain": [
       "   user_id  item_id  data\n",
       "0        0        0   1.0\n",
       "1        0        1   1.0\n",
       "2        0        2   1.0\n",
       "3        0        3   1.0\n",
       "4        0        4   1.0\n",
       "5        0        5   1.0\n",
       "6        0        6   1.0\n",
       "7        0        7   1.0\n",
       "8        0        8   1.0\n",
       "9        0        9   1.0"
      ]
     },
     "execution_count": 8,
     "metadata": {},
     "output_type": "execute_result"
    }
   ],
   "source": [
    "URM_all_dataframe.head(n=10)"
   ]
  },
  {
   "cell_type": "code",
   "execution_count": 9,
   "id": "8916c5e9",
   "metadata": {
    "execution": {
     "iopub.execute_input": "2024-11-08T09:18:24.290249Z",
     "iopub.status.busy": "2024-11-08T09:18:24.289808Z",
     "iopub.status.idle": "2024-11-08T09:18:24.337644Z",
     "shell.execute_reply": "2024-11-08T09:18:24.336393Z"
    },
    "papermill": {
     "duration": 0.060671,
     "end_time": "2024-11-08T09:18:24.340281",
     "exception": false,
     "start_time": "2024-11-08T09:18:24.279610",
     "status": "completed"
    },
    "tags": []
   },
   "outputs": [
    {
     "name": "stdout",
     "output_type": "stream",
     "text": [
      "Number of items\t 38121, Number of users\t 35736\n",
      "Max ID items\t 38120, Max Id users\t 35735\n",
      "\n",
      "Average interactions per user 49.38\n",
      "Average interactions per item 46.29\n",
      "\n",
      "Sparsity 99.87 %\n"
     ]
    }
   ],
   "source": [
    "userID_unique = URM_all_dataframe[\"user_id\"].unique()\n",
    "itemID_unique = URM_all_dataframe[\"item_id\"].unique()\n",
    "\n",
    "n_users = len(userID_unique)\n",
    "n_items = len(itemID_unique)\n",
    "n_interactions = len(URM_all_dataframe)\n",
    "\n",
    "print (\"Number of items\\t {}, Number of users\\t {}\".format(n_items, n_users))\n",
    "print (\"Max ID items\\t {}, Max Id users\\t {}\\n\".format(max(itemID_unique), max(userID_unique)))\n",
    "print (\"Average interactions per user {:.2f}\".format(n_interactions/n_users))\n",
    "print (\"Average interactions per item {:.2f}\\n\".format(n_interactions/n_items))\n",
    "\n",
    "print (\"Sparsity {:.2f} %\".format((1-float(n_interactions)/(n_items*n_users))*100))\n"
   ]
  },
  {
   "cell_type": "code",
   "execution_count": 10,
   "id": "349eac44",
   "metadata": {
    "execution": {
     "iopub.execute_input": "2024-11-08T09:18:24.362363Z",
     "iopub.status.busy": "2024-11-08T09:18:24.361925Z",
     "iopub.status.idle": "2024-11-08T09:18:24.391982Z",
     "shell.execute_reply": "2024-11-08T09:18:24.390777Z"
    },
    "papermill": {
     "duration": 0.043787,
     "end_time": "2024-11-08T09:18:24.394675",
     "exception": false,
     "start_time": "2024-11-08T09:18:24.350888",
     "status": "completed"
    },
    "tags": []
   },
   "outputs": [
    {
     "data": {
      "text/plain": [
       "<COOrdinate sparse matrix of dtype 'float64'\n",
       "\twith 1764607 stored elements and shape (35736, 38121)>"
      ]
     },
     "execution_count": 10,
     "metadata": {},
     "output_type": "execute_result"
    }
   ],
   "source": [
    "import scipy.sparse as sps\n",
    "\n",
    "URM_all = sps.coo_matrix((URM_all_dataframe[\"data\"].values, \n",
    "                          (URM_all_dataframe[\"user_id\"].values, URM_all_dataframe[\"item_id\"].values)))\n",
    "\n",
    "URM_all"
   ]
  },
  {
   "cell_type": "code",
   "execution_count": 11,
   "id": "094054ae",
   "metadata": {
    "execution": {
     "iopub.execute_input": "2024-11-08T09:18:24.414857Z",
     "iopub.status.busy": "2024-11-08T09:18:24.414431Z",
     "iopub.status.idle": "2024-11-08T09:18:24.519499Z",
     "shell.execute_reply": "2024-11-08T09:18:24.518159Z"
    },
    "papermill": {
     "duration": 0.118094,
     "end_time": "2024-11-08T09:18:24.522064",
     "exception": false,
     "start_time": "2024-11-08T09:18:24.403970",
     "status": "completed"
    },
    "tags": []
   },
   "outputs": [
    {
     "data": {
      "text/plain": [
       "<Compressed Sparse Row sparse matrix of dtype 'float64'\n",
       "\twith 1764607 stored elements and shape (35736, 38121)>"
      ]
     },
     "execution_count": 11,
     "metadata": {},
     "output_type": "execute_result"
    }
   ],
   "source": [
    "URM_all.tocsr()"
   ]
  },
  {
   "cell_type": "code",
   "execution_count": 12,
   "id": "c7bcfa51",
   "metadata": {
    "execution": {
     "iopub.execute_input": "2024-11-08T09:18:24.543502Z",
     "iopub.status.busy": "2024-11-08T09:18:24.543024Z",
     "iopub.status.idle": "2024-11-08T09:18:24.599807Z",
     "shell.execute_reply": "2024-11-08T09:18:24.598641Z"
    },
    "papermill": {
     "duration": 0.071024,
     "end_time": "2024-11-08T09:18:24.602611",
     "exception": false,
     "start_time": "2024-11-08T09:18:24.531587",
     "status": "completed"
    },
    "tags": []
   },
   "outputs": [
    {
     "data": {
      "text/plain": [
       "array([  12,   13,   13, ..., 1254, 1310, 1470], dtype=int32)"
      ]
     },
     "execution_count": 12,
     "metadata": {},
     "output_type": "execute_result"
    }
   ],
   "source": [
    "item_popularity = np.ediff1d(URM_all.tocsc().indptr)\n",
    "item_popularity = np.sort(item_popularity)\n",
    "item_popularity"
   ]
  },
  {
   "cell_type": "code",
   "execution_count": 13,
   "id": "f811e792",
   "metadata": {
    "execution": {
     "iopub.execute_input": "2024-11-08T09:18:24.625251Z",
     "iopub.status.busy": "2024-11-08T09:18:24.623894Z",
     "iopub.status.idle": "2024-11-08T09:18:25.010342Z",
     "shell.execute_reply": "2024-11-08T09:18:25.009008Z"
    },
    "papermill": {
     "duration": 0.399808,
     "end_time": "2024-11-08T09:18:25.012732",
     "exception": false,
     "start_time": "2024-11-08T09:18:24.612924",
     "status": "completed"
    },
    "tags": []
   },
   "outputs": [
    {
     "data": {
      "image/png": "[encoded data removed]",
      "text/plain": [
       "<Figure size 640x480 with 1 Axes>"
      ]
     },
     "metadata": {},
     "output_type": "display_data"
    }
   ],
   "source": [
    "plt.plot(item_popularity, 'ro')\n",
    "plt.ylabel('Num Interactions ')\n",
    "plt.xlabel('Sorted Item')\n",
    "plt.show()"
   ]
  },
  {
   "cell_type": "code",
   "execution_count": 14,
   "id": "37768299",
   "metadata": {
    "execution": {
     "iopub.execute_input": "2024-11-08T09:18:25.034275Z",
     "iopub.status.busy": "2024-11-08T09:18:25.033720Z",
     "iopub.status.idle": "2024-11-08T09:18:25.042568Z",
     "shell.execute_reply": "2024-11-08T09:18:25.041205Z"
    },
    "papermill": {
     "duration": 0.022189,
     "end_time": "2024-11-08T09:18:25.044859",
     "exception": false,
     "start_time": "2024-11-08T09:18:25.022670",
     "status": "completed"
    },
    "tags": []
   },
   "outputs": [
    {
     "name": "stdout",
     "output_type": "stream",
     "text": [
      "Average per-item interactions over the whole dataset 46.29\n",
      "Average per-item interactions for the top 10% popular items 153.63\n",
      "Average per-item interactions for the least 10% popular items 17.95\n",
      "Average per-item interactions for the median 10% popular items 31.50\n"
     ]
    }
   ],
   "source": [
    "ten_percent = int(n_items/10)\n",
    "\n",
    "print(\"Average per-item interactions over the whole dataset {:.2f}\".\n",
    "      format(item_popularity.mean()))\n",
    "\n",
    "print(\"Average per-item interactions for the top 10% popular items {:.2f}\".\n",
    "      format(item_popularity[-ten_percent:].mean()))\n",
    "\n",
    "print(\"Average per-item interactions for the least 10% popular items {:.2f}\".\n",
    "      format(item_popularity[:ten_percent].mean()))\n",
    "\n",
    "print(\"Average per-item interactions for the median 10% popular items {:.2f}\".\n",
    "      format(item_popularity[int(n_items*0.45):int(n_items*0.55)].mean()))"
   ]
  },
  {
   "cell_type": "code",
   "execution_count": 15,
   "id": "dfeab5cd",
   "metadata": {
    "execution": {
     "iopub.execute_input": "2024-11-08T09:18:25.067617Z",
     "iopub.status.busy": "2024-11-08T09:18:25.067181Z",
     "iopub.status.idle": "2024-11-08T09:18:25.073516Z",
     "shell.execute_reply": "2024-11-08T09:18:25.072367Z"
    },
    "papermill": {
     "duration": 0.020529,
     "end_time": "2024-11-08T09:18:25.075966",
     "exception": false,
     "start_time": "2024-11-08T09:18:25.055437",
     "status": "completed"
    },
    "tags": []
   },
   "outputs": [
    {
     "name": "stdout",
     "output_type": "stream",
     "text": [
      "Number of items with zero interactions 0\n"
     ]
    }
   ],
   "source": [
    "print(\"Number of items with zero interactions {}\".\n",
    "      format(np.sum(item_popularity==0)))"
   ]
  },
  {
   "cell_type": "code",
   "execution_count": 16,
   "id": "7b1bde70",
   "metadata": {
    "execution": {
     "iopub.execute_input": "2024-11-08T09:18:25.098095Z",
     "iopub.status.busy": "2024-11-08T09:18:25.097661Z",
     "iopub.status.idle": "2024-11-08T09:18:25.456657Z",
     "shell.execute_reply": "2024-11-08T09:18:25.455422Z"
    },
    "papermill": {
     "duration": 0.373274,
     "end_time": "2024-11-08T09:18:25.459222",
     "exception": false,
     "start_time": "2024-11-08T09:18:25.085948",
     "status": "completed"
    },
    "tags": []
   },
   "outputs": [
    {
     "data": {
      "image/png": "[encoded data removed]",
      "text/plain": [
       "<Figure size 640x480 with 1 Axes>"
      ]
     },
     "metadata": {},
     "output_type": "display_data"
    }
   ],
   "source": [
    "user_activity = np.ediff1d(URM_all.tocsr().indptr)\n",
    "user_activity = np.sort(user_activity)\n",
    "\n",
    "\n",
    "plt.plot(user_activity, 'ro')\n",
    "plt.ylabel('Num Interactions ')\n",
    "plt.xlabel('Sorted User')\n",
    "plt.show()"
   ]
  },
  {
   "cell_type": "markdown",
   "id": "d66e1725",
   "metadata": {
    "papermill": {
     "duration": 0.010038,
     "end_time": "2024-11-08T09:18:25.480053",
     "exception": false,
     "start_time": "2024-11-08T09:18:25.470015",
     "status": "completed"
    },
    "tags": []
   },
   "source": [
    "# Let's study the ICM"
   ]
  },
  {
   "cell_type": "code",
   "execution_count": 17,
   "id": "dd483fd4",
   "metadata": {
    "execution": {
     "iopub.execute_input": "2024-11-08T09:18:25.503270Z",
     "iopub.status.busy": "2024-11-08T09:18:25.502769Z",
     "iopub.status.idle": "2024-11-08T09:18:26.806437Z",
     "shell.execute_reply": "2024-11-08T09:18:26.805194Z"
    },
    "papermill": {
     "duration": 1.318737,
     "end_time": "2024-11-08T09:18:26.809615",
     "exception": false,
     "start_time": "2024-11-08T09:18:25.490878",
     "status": "completed"
    },
    "tags": []
   },
   "outputs": [
    {
     "data": {
      "text/html": [
       "<div>\n",
       "<style scoped>\n",
       "    .dataframe tbody tr th:only-of-type {\n",
       "        vertical-align: middle;\n",
       "    }\n",
       "\n",
       "    .dataframe tbody tr th {\n",
       "        vertical-align: top;\n",
       "    }\n",
       "\n",
       "    .dataframe thead th {\n",
       "        text-align: right;\n",
       "    }\n",
       "</style>\n",
       "<table border=\"1\" class=\"dataframe\">\n",
       "  <thead>\n",
       "    <tr style=\"text-align: right;\">\n",
       "      <th></th>\n",
       "      <th>item_id</th>\n",
       "      <th>feature_id</th>\n",
       "      <th>data</th>\n",
       "    </tr>\n",
       "  </thead>\n",
       "  <tbody>\n",
       "    <tr>\n",
       "      <th>0</th>\n",
       "      <td>2519</td>\n",
       "      <td>0</td>\n",
       "      <td>1.0</td>\n",
       "    </tr>\n",
       "    <tr>\n",
       "      <th>1</th>\n",
       "      <td>2642</td>\n",
       "      <td>0</td>\n",
       "      <td>1.0</td>\n",
       "    </tr>\n",
       "    <tr>\n",
       "      <th>2</th>\n",
       "      <td>3316</td>\n",
       "      <td>0</td>\n",
       "      <td>1.0</td>\n",
       "    </tr>\n",
       "    <tr>\n",
       "      <th>3</th>\n",
       "      <td>3400</td>\n",
       "      <td>0</td>\n",
       "      <td>1.0</td>\n",
       "    </tr>\n",
       "    <tr>\n",
       "      <th>4</th>\n",
       "      <td>3472</td>\n",
       "      <td>0</td>\n",
       "      <td>1.0</td>\n",
       "    </tr>\n",
       "    <tr>\n",
       "      <th>5</th>\n",
       "      <td>4361</td>\n",
       "      <td>0</td>\n",
       "      <td>1.0</td>\n",
       "    </tr>\n",
       "    <tr>\n",
       "      <th>6</th>\n",
       "      <td>4661</td>\n",
       "      <td>0</td>\n",
       "      <td>1.0</td>\n",
       "    </tr>\n",
       "    <tr>\n",
       "      <th>7</th>\n",
       "      <td>8697</td>\n",
       "      <td>0</td>\n",
       "      <td>1.0</td>\n",
       "    </tr>\n",
       "    <tr>\n",
       "      <th>8</th>\n",
       "      <td>9692</td>\n",
       "      <td>0</td>\n",
       "      <td>1.0</td>\n",
       "    </tr>\n",
       "    <tr>\n",
       "      <th>9</th>\n",
       "      <td>9693</td>\n",
       "      <td>0</td>\n",
       "      <td>1.0</td>\n",
       "    </tr>\n",
       "  </tbody>\n",
       "</table>\n",
       "</div>"
      ],
      "text/plain": [
       "   item_id  feature_id  data\n",
       "0     2519           0   1.0\n",
       "1     2642           0   1.0\n",
       "2     3316           0   1.0\n",
       "3     3400           0   1.0\n",
       "4     3472           0   1.0\n",
       "5     4361           0   1.0\n",
       "6     4661           0   1.0\n",
       "7     8697           0   1.0\n",
       "8     9692           0   1.0\n",
       "9     9693           0   1.0"
      ]
     },
     "execution_count": 17,
     "metadata": {},
     "output_type": "execute_result"
    }
   ],
   "source": [
    "ICM_all_dataframe = pd.read_csv(\"/kaggle/input/recommender-system-2024-challenge-polimi/data_ICM_metadata.csv\")\n",
    "ICM_all_dataframe.head(10)"
   ]
  },
  {
   "cell_type": "code",
   "execution_count": 18,
   "id": "46685fca",
   "metadata": {
    "execution": {
     "iopub.execute_input": "2024-11-08T09:18:26.834733Z",
     "iopub.status.busy": "2024-11-08T09:18:26.834282Z",
     "iopub.status.idle": "2024-11-08T09:18:26.888577Z",
     "shell.execute_reply": "2024-11-08T09:18:26.887347Z"
    },
    "papermill": {
     "duration": 0.069769,
     "end_time": "2024-11-08T09:18:26.891251",
     "exception": false,
     "start_time": "2024-11-08T09:18:26.821482",
     "status": "completed"
    },
    "tags": []
   },
   "outputs": [],
   "source": [
    "featureID_unique = ICM_all_dataframe[\"feature_id\"].unique()\n",
    "itemID_unique_ICM = ICM_all_dataframe[\"item_id\"].unique()"
   ]
  },
  {
   "cell_type": "code",
   "execution_count": 19,
   "id": "0311de52",
   "metadata": {
    "execution": {
     "iopub.execute_input": "2024-11-08T09:18:26.914930Z",
     "iopub.status.busy": "2024-11-08T09:18:26.914506Z",
     "iopub.status.idle": "2024-11-08T09:18:26.931376Z",
     "shell.execute_reply": "2024-11-08T09:18:26.930134Z"
    },
    "papermill": {
     "duration": 0.031463,
     "end_time": "2024-11-08T09:18:26.933720",
     "exception": false,
     "start_time": "2024-11-08T09:18:26.902257",
     "status": "completed"
    },
    "tags": []
   },
   "outputs": [
    {
     "name": "stdout",
     "output_type": "stream",
     "text": [
      "Number of items\t 38121, Number of features\t 94331\n",
      "Max ID items\t 38120, Max Id features\t 94330\n",
      "\n"
     ]
    }
   ],
   "source": [
    "n_features = len(featureID_unique)\n",
    "n_items_ICM = len(itemID_unique_ICM)\n",
    "n_interactions_ICM = len(ICM_all_dataframe)\n",
    "\n",
    "print (\"Number of items\\t {}, Number of features\\t {}\".format(n_items_ICM, n_features))\n",
    "print (\"Max ID items\\t {}, Max Id features\\t {}\\n\".format(max(itemID_unique_ICM), max(featureID_unique)))"
   ]
  },
  {
   "cell_type": "code",
   "execution_count": 20,
   "id": "507de36c",
   "metadata": {
    "execution": {
     "iopub.execute_input": "2024-11-08T09:18:26.956700Z",
     "iopub.status.busy": "2024-11-08T09:18:26.956263Z",
     "iopub.status.idle": "2024-11-08T09:18:27.016638Z",
     "shell.execute_reply": "2024-11-08T09:18:27.015206Z"
    },
    "papermill": {
     "duration": 0.075218,
     "end_time": "2024-11-08T09:18:27.019550",
     "exception": false,
     "start_time": "2024-11-08T09:18:26.944332",
     "status": "completed"
    },
    "tags": []
   },
   "outputs": [],
   "source": [
    "mapped_id, original_id = pd.factorize(ICM_all_dataframe[\"feature_id\"].unique())\n",
    "feature_original_ID_to_index = pd.Series(mapped_id, index=original_id)\n",
    "\n",
    "mapped_id, original_id = pd.factorize(ICM_all_dataframe[\"item_id\"].unique())\n",
    "item_original_ID_to_index_ICM = pd.Series(mapped_id, index=original_id)"
   ]
  },
  {
   "cell_type": "code",
   "execution_count": 21,
   "id": "1dbd6245",
   "metadata": {
    "execution": {
     "iopub.execute_input": "2024-11-08T09:18:27.043141Z",
     "iopub.status.busy": "2024-11-08T09:18:27.042244Z",
     "iopub.status.idle": "2024-11-08T09:18:27.140769Z",
     "shell.execute_reply": "2024-11-08T09:18:27.139541Z"
    },
    "papermill": {
     "duration": 0.11341,
     "end_time": "2024-11-08T09:18:27.143801",
     "exception": false,
     "start_time": "2024-11-08T09:18:27.030391",
     "status": "completed"
    },
    "tags": []
   },
   "outputs": [],
   "source": [
    "ICM_all_dataframe[\"feature_id\"] = ICM_all_dataframe[\"feature_id\"].map(feature_original_ID_to_index)\n",
    "ICM_all_dataframe[\"item_id\"] = ICM_all_dataframe[\"item_id\"].map(item_original_ID_to_index_ICM)"
   ]
  },
  {
   "cell_type": "code",
   "execution_count": 22,
   "id": "ed130174",
   "metadata": {
    "execution": {
     "iopub.execute_input": "2024-11-08T09:18:27.174405Z",
     "iopub.status.busy": "2024-11-08T09:18:27.173588Z",
     "iopub.status.idle": "2024-11-08T09:18:27.189179Z",
     "shell.execute_reply": "2024-11-08T09:18:27.187843Z"
    },
    "papermill": {
     "duration": 0.031413,
     "end_time": "2024-11-08T09:18:27.191885",
     "exception": false,
     "start_time": "2024-11-08T09:18:27.160472",
     "status": "completed"
    },
    "tags": []
   },
   "outputs": [
    {
     "data": {
      "text/html": [
       "<div>\n",
       "<style scoped>\n",
       "    .dataframe tbody tr th:only-of-type {\n",
       "        vertical-align: middle;\n",
       "    }\n",
       "\n",
       "    .dataframe tbody tr th {\n",
       "        vertical-align: top;\n",
       "    }\n",
       "\n",
       "    .dataframe thead th {\n",
       "        text-align: right;\n",
       "    }\n",
       "</style>\n",
       "<table border=\"1\" class=\"dataframe\">\n",
       "  <thead>\n",
       "    <tr style=\"text-align: right;\">\n",
       "      <th></th>\n",
       "      <th>item_id</th>\n",
       "      <th>feature_id</th>\n",
       "      <th>data</th>\n",
       "    </tr>\n",
       "  </thead>\n",
       "  <tbody>\n",
       "    <tr>\n",
       "      <th>0</th>\n",
       "      <td>0</td>\n",
       "      <td>0</td>\n",
       "      <td>1.0</td>\n",
       "    </tr>\n",
       "    <tr>\n",
       "      <th>1</th>\n",
       "      <td>1</td>\n",
       "      <td>0</td>\n",
       "      <td>1.0</td>\n",
       "    </tr>\n",
       "    <tr>\n",
       "      <th>2</th>\n",
       "      <td>2</td>\n",
       "      <td>0</td>\n",
       "      <td>1.0</td>\n",
       "    </tr>\n",
       "    <tr>\n",
       "      <th>3</th>\n",
       "      <td>3</td>\n",
       "      <td>0</td>\n",
       "      <td>1.0</td>\n",
       "    </tr>\n",
       "    <tr>\n",
       "      <th>4</th>\n",
       "      <td>4</td>\n",
       "      <td>0</td>\n",
       "      <td>1.0</td>\n",
       "    </tr>\n",
       "    <tr>\n",
       "      <th>5</th>\n",
       "      <td>5</td>\n",
       "      <td>0</td>\n",
       "      <td>1.0</td>\n",
       "    </tr>\n",
       "    <tr>\n",
       "      <th>6</th>\n",
       "      <td>6</td>\n",
       "      <td>0</td>\n",
       "      <td>1.0</td>\n",
       "    </tr>\n",
       "    <tr>\n",
       "      <th>7</th>\n",
       "      <td>7</td>\n",
       "      <td>0</td>\n",
       "      <td>1.0</td>\n",
       "    </tr>\n",
       "    <tr>\n",
       "      <th>8</th>\n",
       "      <td>8</td>\n",
       "      <td>0</td>\n",
       "      <td>1.0</td>\n",
       "    </tr>\n",
       "    <tr>\n",
       "      <th>9</th>\n",
       "      <td>9</td>\n",
       "      <td>0</td>\n",
       "      <td>1.0</td>\n",
       "    </tr>\n",
       "  </tbody>\n",
       "</table>\n",
       "</div>"
      ],
      "text/plain": [
       "   item_id  feature_id  data\n",
       "0        0           0   1.0\n",
       "1        1           0   1.0\n",
       "2        2           0   1.0\n",
       "3        3           0   1.0\n",
       "4        4           0   1.0\n",
       "5        5           0   1.0\n",
       "6        6           0   1.0\n",
       "7        7           0   1.0\n",
       "8        8           0   1.0\n",
       "9        9           0   1.0"
      ]
     },
     "execution_count": 22,
     "metadata": {},
     "output_type": "execute_result"
    }
   ],
   "source": [
    "ICM_all_dataframe.head(n=10)"
   ]
  },
  {
   "cell_type": "code",
   "execution_count": 23,
   "id": "5de4742f",
   "metadata": {
    "execution": {
     "iopub.execute_input": "2024-11-08T09:18:27.217010Z",
     "iopub.status.busy": "2024-11-08T09:18:27.216623Z",
     "iopub.status.idle": "2024-11-08T09:18:27.282121Z",
     "shell.execute_reply": "2024-11-08T09:18:27.280934Z"
    },
    "papermill": {
     "duration": 0.082045,
     "end_time": "2024-11-08T09:18:27.284978",
     "exception": false,
     "start_time": "2024-11-08T09:18:27.202933",
     "status": "completed"
    },
    "tags": []
   },
   "outputs": [
    {
     "name": "stdout",
     "output_type": "stream",
     "text": [
      "Number of items\t 38121, Number of features\t 94331\n",
      "Max ID items\t 38120, Max Id features\t 94330\n",
      "\n",
      "Average interactions per feature 31.17\n",
      "Average interactions per item 77.12\n",
      "\n",
      "Sparsity 99.92 %\n"
     ]
    }
   ],
   "source": [
    "featureID_unique = ICM_all_dataframe[\"feature_id\"].unique()\n",
    "itemID_unique_ICM = ICM_all_dataframe[\"item_id\"].unique()\n",
    "\n",
    "n_features = len(featureID_unique)\n",
    "n_items_ICM = len(itemID_unique_ICM)\n",
    "n_interactions_ICM = len(ICM_all_dataframe)\n",
    "\n",
    "print (\"Number of items\\t {}, Number of features\\t {}\".format(n_items_ICM, n_features))\n",
    "print (\"Max ID items\\t {}, Max Id features\\t {}\\n\".format(max(itemID_unique_ICM), max(featureID_unique)))\n",
    "print (\"Average interactions per feature {:.2f}\".format(n_interactions_ICM/n_features))\n",
    "print (\"Average interactions per item {:.2f}\\n\".format(n_interactions_ICM/n_items_ICM))\n",
    "\n",
    "print (\"Sparsity {:.2f} %\".format((1-float(n_interactions_ICM)/(n_items_ICM*n_features))*100))\n"
   ]
  },
  {
   "cell_type": "code",
   "execution_count": 24,
   "id": "a3adc021",
   "metadata": {
    "execution": {
     "iopub.execute_input": "2024-11-08T09:18:27.308599Z",
     "iopub.status.busy": "2024-11-08T09:18:27.308184Z",
     "iopub.status.idle": "2024-11-08T09:18:27.340892Z",
     "shell.execute_reply": "2024-11-08T09:18:27.339691Z"
    },
    "papermill": {
     "duration": 0.047681,
     "end_time": "2024-11-08T09:18:27.343518",
     "exception": false,
     "start_time": "2024-11-08T09:18:27.295837",
     "status": "completed"
    },
    "tags": []
   },
   "outputs": [
    {
     "data": {
      "text/plain": [
       "<COOrdinate sparse matrix of dtype 'float64'\n",
       "\twith 2940040 stored elements and shape (38121, 94331)>"
      ]
     },
     "execution_count": 24,
     "metadata": {},
     "output_type": "execute_result"
    }
   ],
   "source": [
    "ICM_all = sps.coo_matrix((ICM_all_dataframe[\"data\"].values, (ICM_all_dataframe[\"item_id\"].values,ICM_all_dataframe[\"feature_id\"].values)))\n",
    "\n",
    "\n",
    "ICM_all"
   ]
  },
  {
   "cell_type": "code",
   "execution_count": 25,
   "id": "f0622e61",
   "metadata": {
    "execution": {
     "iopub.execute_input": "2024-11-08T09:18:27.368197Z",
     "iopub.status.busy": "2024-11-08T09:18:27.367744Z",
     "iopub.status.idle": "2024-11-08T09:18:27.454626Z",
     "shell.execute_reply": "2024-11-08T09:18:27.453198Z"
    },
    "papermill": {
     "duration": 0.102425,
     "end_time": "2024-11-08T09:18:27.457461",
     "exception": false,
     "start_time": "2024-11-08T09:18:27.355036",
     "status": "completed"
    },
    "tags": []
   },
   "outputs": [
    {
     "data": {
      "text/plain": [
       "<Compressed Sparse Row sparse matrix of dtype 'float64'\n",
       "\twith 2940040 stored elements and shape (38121, 94331)>"
      ]
     },
     "execution_count": 25,
     "metadata": {},
     "output_type": "execute_result"
    }
   ],
   "source": [
    "ICM_all.tocsr()"
   ]
  },
  {
   "cell_type": "code",
   "execution_count": 26,
   "id": "0a0e6835",
   "metadata": {
    "execution": {
     "iopub.execute_input": "2024-11-08T09:18:27.482153Z",
     "iopub.status.busy": "2024-11-08T09:18:27.481695Z",
     "iopub.status.idle": "2024-11-08T09:18:27.573388Z",
     "shell.execute_reply": "2024-11-08T09:18:27.572184Z"
    },
    "papermill": {
     "duration": 0.107119,
     "end_time": "2024-11-08T09:18:27.575882",
     "exception": false,
     "start_time": "2024-11-08T09:18:27.468763",
     "status": "completed"
    },
    "tags": []
   },
   "outputs": [
    {
     "data": {
      "text/plain": [
       "array([   1,    1,    1, ..., 1084, 1199, 2013], dtype=int32)"
      ]
     },
     "execution_count": 26,
     "metadata": {},
     "output_type": "execute_result"
    }
   ],
   "source": [
    "item_popularity_ICM = np.ediff1d(ICM_all.tocsr().indptr)       # tocsc(), when rows and columns inverted\n",
    "item_popularity_ICM = np.sort(item_popularity_ICM)\n",
    "item_popularity_ICM "
   ]
  },
  {
   "cell_type": "code",
   "execution_count": 27,
   "id": "d02707fc",
   "metadata": {
    "execution": {
     "iopub.execute_input": "2024-11-08T09:18:27.599842Z",
     "iopub.status.busy": "2024-11-08T09:18:27.599454Z",
     "iopub.status.idle": "2024-11-08T09:18:27.891410Z",
     "shell.execute_reply": "2024-11-08T09:18:27.890307Z"
    },
    "papermill": {
     "duration": 0.307218,
     "end_time": "2024-11-08T09:18:27.894300",
     "exception": false,
     "start_time": "2024-11-08T09:18:27.587082",
     "status": "completed"
    },
    "tags": []
   },
   "outputs": [
    {
     "data": {
      "image/png": "[encoded data removed]",
      "text/plain": [
       "<Figure size 640x480 with 1 Axes>"
      ]
     },
     "metadata": {},
     "output_type": "display_data"
    }
   ],
   "source": [
    "plt.plot(item_popularity_ICM, 'ro')\n",
    "plt.ylabel('Num of features')\n",
    "plt.xlabel('Sorted Item')\n",
    "plt.show()"
   ]
  },
  {
   "cell_type": "code",
   "execution_count": 28,
   "id": "26dfde22",
   "metadata": {
    "execution": {
     "iopub.execute_input": "2024-11-08T09:18:27.920877Z",
     "iopub.status.busy": "2024-11-08T09:18:27.920457Z",
     "iopub.status.idle": "2024-11-08T09:18:27.929345Z",
     "shell.execute_reply": "2024-11-08T09:18:27.927709Z"
    },
    "papermill": {
     "duration": 0.025607,
     "end_time": "2024-11-08T09:18:27.932077",
     "exception": false,
     "start_time": "2024-11-08T09:18:27.906470",
     "status": "completed"
    },
    "tags": []
   },
   "outputs": [
    {
     "name": "stdout",
     "output_type": "stream",
     "text": [
      "Average per-item interactions over the whole dataset 77.12\n",
      "Average per-item interactions for the top 10% popular items 228.64\n",
      "Average per-item interactions for the least 10% popular items 3.77\n",
      "Average per-item interactions for the median 10% popular items 65.90\n"
     ]
    }
   ],
   "source": [
    "ten_percent = int(n_items_ICM/10)\n",
    "\n",
    "print(\"Average per-item interactions over the whole dataset {:.2f}\".\n",
    "      format(item_popularity_ICM.mean()))\n",
    "\n",
    "print(\"Average per-item interactions for the top 10% popular items {:.2f}\".\n",
    "      format(item_popularity_ICM[-ten_percent:].mean()))\n",
    "\n",
    "print(\"Average per-item interactions for the least 10% popular items {:.2f}\".\n",
    "      format(item_popularity_ICM[:ten_percent].mean()))\n",
    "\n",
    "print(\"Average per-item interactions for the median 10% popular items {:.2f}\".\n",
    "      format(item_popularity_ICM[int(n_items_ICM*0.45):int(n_items_ICM*0.55)].mean()))"
   ]
  },
  {
   "cell_type": "code",
   "execution_count": null,
   "id": "93e28b03",
   "metadata": {
    "papermill": {
     "duration": 0.011451,
     "end_time": "2024-11-08T09:18:27.955396",
     "exception": false,
     "start_time": "2024-11-08T09:18:27.943945",
     "status": "completed"
    },
    "tags": []
   },
   "outputs": [],
   "source": []
  },
  {
   "cell_type": "markdown",
   "id": "36a21e66",
   "metadata": {
    "papermill": {
     "duration": 0.011287,
     "end_time": "2024-11-08T09:18:27.978322",
     "exception": false,
     "start_time": "2024-11-08T09:18:27.967035",
     "status": "completed"
    },
    "tags": []
   },
   "source": [
    "# Creating a validation set for testing our recommendation models"
   ]
  },
  {
   "cell_type": "code",
   "execution_count": 29,
   "id": "c529256f",
   "metadata": {
    "execution": {
     "iopub.execute_input": "2024-11-08T09:18:28.004221Z",
     "iopub.status.busy": "2024-11-08T09:18:28.003112Z",
     "iopub.status.idle": "2024-11-08T09:18:28.056384Z",
     "shell.execute_reply": "2024-11-08T09:18:28.055266Z"
    },
    "papermill": {
     "duration": 0.069161,
     "end_time": "2024-11-08T09:18:28.059302",
     "exception": false,
     "start_time": "2024-11-08T09:18:27.990141",
     "status": "completed"
    },
    "tags": []
   },
   "outputs": [
    {
     "data": {
      "text/plain": [
       "array([ True,  True,  True, ...,  True,  True,  True])"
      ]
     },
     "execution_count": 29,
     "metadata": {},
     "output_type": "execute_result"
    }
   ],
   "source": [
    "train_test_split = 0.80\n",
    "\n",
    "n_interactions = URM_all.nnz\n",
    "\n",
    "train_mask = np.random.choice([True,False], n_interactions, p=[train_test_split, 1-train_test_split])\n",
    "train_mask"
   ]
  },
  {
   "cell_type": "code",
   "execution_count": 30,
   "id": "2f9609df",
   "metadata": {
    "execution": {
     "iopub.execute_input": "2024-11-08T09:18:28.084859Z",
     "iopub.status.busy": "2024-11-08T09:18:28.084462Z",
     "iopub.status.idle": "2024-11-08T09:18:28.186887Z",
     "shell.execute_reply": "2024-11-08T09:18:28.185611Z"
    },
    "papermill": {
     "duration": 0.118373,
     "end_time": "2024-11-08T09:18:28.189623",
     "exception": false,
     "start_time": "2024-11-08T09:18:28.071250",
     "status": "completed"
    },
    "tags": []
   },
   "outputs": [
    {
     "data": {
      "text/plain": [
       "<Compressed Sparse Row sparse matrix of dtype 'float64'\n",
       "\twith 1410873 stored elements and shape (35736, 38121)>"
      ]
     },
     "execution_count": 30,
     "metadata": {},
     "output_type": "execute_result"
    }
   ],
   "source": [
    "URM_train = sps.csr_matrix((URM_all.data[train_mask],\n",
    "                            (URM_all.row[train_mask], URM_all.col[train_mask])))\n",
    "\n",
    "URM_train"
   ]
  },
  {
   "cell_type": "code",
   "execution_count": 31,
   "id": "a4c0fae3",
   "metadata": {
    "execution": {
     "iopub.execute_input": "2024-11-08T09:18:28.216517Z",
     "iopub.status.busy": "2024-11-08T09:18:28.216033Z",
     "iopub.status.idle": "2024-11-08T09:18:28.268872Z",
     "shell.execute_reply": "2024-11-08T09:18:28.267365Z"
    },
    "papermill": {
     "duration": 0.069782,
     "end_time": "2024-11-08T09:18:28.271393",
     "exception": false,
     "start_time": "2024-11-08T09:18:28.201611",
     "status": "completed"
    },
    "tags": []
   },
   "outputs": [
    {
     "data": {
      "text/plain": [
       "<Compressed Sparse Row sparse matrix of dtype 'float64'\n",
       "\twith 353734 stored elements and shape (35736, 38121)>"
      ]
     },
     "execution_count": 31,
     "metadata": {},
     "output_type": "execute_result"
    }
   ],
   "source": [
    "test_mask = np.logical_not(train_mask)\n",
    "\n",
    "URM_test = sps.csr_matrix((URM_all.data[test_mask],\n",
    "                            (URM_all.row[test_mask], URM_all.col[test_mask])))\n",
    "\n",
    "URM_test"
   ]
  },
  {
   "cell_type": "code",
   "execution_count": 32,
   "id": "76433fcd",
   "metadata": {
    "execution": {
     "iopub.execute_input": "2024-11-08T09:18:28.299155Z",
     "iopub.status.busy": "2024-11-08T09:18:28.298683Z",
     "iopub.status.idle": "2024-11-08T09:18:28.307888Z",
     "shell.execute_reply": "2024-11-08T09:18:28.306553Z"
    },
    "papermill": {
     "duration": 0.026712,
     "end_time": "2024-11-08T09:18:28.310460",
     "exception": false,
     "start_time": "2024-11-08T09:18:28.283748",
     "status": "completed"
    },
    "tags": []
   },
   "outputs": [
    {
     "data": {
      "text/plain": [
       "array([ 242,  268,  458, 4885, 5554, 5724, 6089, 6906, 8247, 8249, 8251,\n",
       "       8259, 8268, 8269, 8270, 8272, 8274, 8275, 8278, 8280, 8289, 8292,\n",
       "       8298, 8302, 8309, 8311, 8316, 8320, 8324, 8326, 8328, 8329, 8330,\n",
       "       8332, 8333, 8336, 8337, 8349, 8359, 8364, 8368, 8371, 8372, 8375],\n",
       "      dtype=int32)"
      ]
     },
     "execution_count": 32,
     "metadata": {},
     "output_type": "execute_result"
    }
   ],
   "source": [
    "user_id = 124\n",
    "relevant_items = URM_test[user_id].indices\n",
    "relevant_items"
   ]
  }
 ],
 "metadata": {
  "kaggle": {
   "accelerator": "none",
   "dataSources": [
    {
     "databundleVersionId": 9982103,
     "sourceId": 87439,
     "sourceType": "competition"
    }
   ],
   "dockerImageVersionId": 30786,
   "isGpuEnabled": false,
   "isInternetEnabled": true,
   "language": "python",
   "sourceType": "notebook"
  },
  "kernelspec": {
   "display_name": "Python 3",
   "language": "python",
   "name": "python3"
  },
  "language_info": {
   "codemirror_mode": {
    "name": "ipython",
    "version": 3
   },
   "file_extension": ".py",
   "mimetype": "text/x-python",
   "name": "python",
   "nbconvert_exporter": "python",
   "pygments_lexer": "ipython3",
   "version": "3.10.14"
  },
  "papermill": {
   "default_parameters": {},
   "duration": 12.321334,
   "end_time": "2024-11-08T09:18:29.045530",
   "environment_variables": {},
   "exception": null,
   "input_path": "__notebook__.ipynb",
   "output_path": "__notebook__.ipynb",
   "parameters": {},
   "start_time": "2024-11-08T09:18:16.724196",
   "version": "2.6.0"
  }
 },
 "nbformat": 4,
 "nbformat_minor": 5
}
